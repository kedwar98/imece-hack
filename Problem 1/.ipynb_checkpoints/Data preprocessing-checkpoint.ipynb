{
 "cells": [
  {
   "cell_type": "code",
   "execution_count": 2,
   "metadata": {},
   "outputs": [],
   "source": [
    "import pandas as pd\n",
    "import datetime"
   ]
  },
  {
   "cell_type": "code",
   "execution_count": 25,
   "metadata": {},
   "outputs": [
    {
     "name": "stdout",
     "output_type": "stream",
     "text": [
      "1\n",
      "True\n",
      "True\n",
      "2\n",
      "True\n",
      "True\n"
     ]
    },
    {
     "ename": "AttributeError",
     "evalue": "'DataFrame' object has no attribute 'concat'",
     "output_type": "error",
     "traceback": [
      "\u001b[1;31m---------------------------------------------------------------------------\u001b[0m",
      "\u001b[1;31mAttributeError\u001b[0m                            Traceback (most recent call last)",
      "\u001b[1;32m<ipython-input-25-a9c71fda4028>\u001b[0m in \u001b[0;36m<module>\u001b[1;34m\u001b[0m\n\u001b[0;32m     78\u001b[0m         \u001b[0mfirst\u001b[0m\u001b[1;33m=\u001b[0m\u001b[1;36m0\u001b[0m\u001b[1;33m\u001b[0m\u001b[1;33m\u001b[0m\u001b[0m\n\u001b[0;32m     79\u001b[0m     \u001b[1;32melse\u001b[0m\u001b[1;33m:\u001b[0m\u001b[1;33m\u001b[0m\u001b[1;33m\u001b[0m\u001b[0m\n\u001b[1;32m---> 80\u001b[1;33m         \u001b[0mfulldf\u001b[0m\u001b[1;33m=\u001b[0m\u001b[0mfulldf\u001b[0m\u001b[1;33m.\u001b[0m\u001b[0mconcat\u001b[0m\u001b[1;33m(\u001b[0m\u001b[1;33m[\u001b[0m\u001b[0mfulldf\u001b[0m\u001b[1;33m,\u001b[0m\u001b[0mmachinedf\u001b[0m\u001b[1;33m]\u001b[0m\u001b[1;33m)\u001b[0m\u001b[1;33m\u001b[0m\u001b[1;33m\u001b[0m\u001b[0m\n\u001b[0m\u001b[0;32m     81\u001b[0m \u001b[0mfulldf\u001b[0m\u001b[1;33m.\u001b[0m\u001b[0mto_csv\u001b[0m\u001b[1;33m(\u001b[0m\u001b[1;34m'resdf.csv'\u001b[0m\u001b[1;33m)\u001b[0m\u001b[1;33m\u001b[0m\u001b[1;33m\u001b[0m\u001b[0m\n",
      "\u001b[1;32m~\\anaconda3\\envs\\tf\\lib\\site-packages\\pandas\\core\\generic.py\u001b[0m in \u001b[0;36m__getattr__\u001b[1;34m(self, name)\u001b[0m\n\u001b[0;32m   5137\u001b[0m             \u001b[1;32mif\u001b[0m \u001b[0mself\u001b[0m\u001b[1;33m.\u001b[0m\u001b[0m_info_axis\u001b[0m\u001b[1;33m.\u001b[0m\u001b[0m_can_hold_identifiers_and_holds_name\u001b[0m\u001b[1;33m(\u001b[0m\u001b[0mname\u001b[0m\u001b[1;33m)\u001b[0m\u001b[1;33m:\u001b[0m\u001b[1;33m\u001b[0m\u001b[1;33m\u001b[0m\u001b[0m\n\u001b[0;32m   5138\u001b[0m                 \u001b[1;32mreturn\u001b[0m \u001b[0mself\u001b[0m\u001b[1;33m[\u001b[0m\u001b[0mname\u001b[0m\u001b[1;33m]\u001b[0m\u001b[1;33m\u001b[0m\u001b[1;33m\u001b[0m\u001b[0m\n\u001b[1;32m-> 5139\u001b[1;33m             \u001b[1;32mreturn\u001b[0m \u001b[0mobject\u001b[0m\u001b[1;33m.\u001b[0m\u001b[0m__getattribute__\u001b[0m\u001b[1;33m(\u001b[0m\u001b[0mself\u001b[0m\u001b[1;33m,\u001b[0m \u001b[0mname\u001b[0m\u001b[1;33m)\u001b[0m\u001b[1;33m\u001b[0m\u001b[1;33m\u001b[0m\u001b[0m\n\u001b[0m\u001b[0;32m   5140\u001b[0m \u001b[1;33m\u001b[0m\u001b[0m\n\u001b[0;32m   5141\u001b[0m     \u001b[1;32mdef\u001b[0m \u001b[0m__setattr__\u001b[0m\u001b[1;33m(\u001b[0m\u001b[0mself\u001b[0m\u001b[1;33m,\u001b[0m \u001b[0mname\u001b[0m\u001b[1;33m:\u001b[0m \u001b[0mstr\u001b[0m\u001b[1;33m,\u001b[0m \u001b[0mvalue\u001b[0m\u001b[1;33m)\u001b[0m \u001b[1;33m->\u001b[0m \u001b[1;32mNone\u001b[0m\u001b[1;33m:\u001b[0m\u001b[1;33m\u001b[0m\u001b[1;33m\u001b[0m\u001b[0m\n",
      "\u001b[1;31mAttributeError\u001b[0m: 'DataFrame' object has no attribute 'concat'"
     ]
    }
   ],
   "source": [
    "global base_date\n",
    "base_date=None\n",
    "\n",
    "def setidx(df):\n",
    "    global base_date\n",
    "    ilist=[]\n",
    "    for i in range(len(df.index)):\n",
    "        res=df.index[i]\n",
    "        time_stamp = datetime.datetime.strptime(res.split(' ')[-1], '%H:%M')\n",
    "        minute_index = round(time_stamp.minute/10)\n",
    "        hour_index = time_stamp.hour\n",
    "        if base_date == None:\n",
    "            base_date = datetime.datetime.strptime(res.split(' ')[0], '%m/%d/%y')\n",
    "        day = (datetime.datetime.strptime(res.split(' ')[0], '%m/%d/%y')-base_date).days\n",
    "        time_index = day * 24 * 6 - 31 + minute_index + hour_index * 6\n",
    "        ilist.append(time_index)\n",
    "    df.index=ilist\n",
    "    return df\n",
    "\n",
    "csv1list=[\"Data/bridgeport1week1-train.csv\",\"Data/bridgeport2week1-train.csv\",\"Data/bridgeport3week1-train.csv\",\"Data/drillpressweek1-train.csv\",\"Data/latheweek1-train.csv\"]\n",
    "csv2list=[\"Data/bridgeport1week2-train.csv\",\"Data/bridgeport2week2-train.csv\",\"Data/bridgeport3week2-train.csv\",\"Data/drillpressweek2-train.csv\",\"Data/latheweek2-train.csv\"]\n",
    "first=1\n",
    "for filenameidx in range(1,5):\n",
    "    print(filenameidx)\n",
    "    origdf=pd.read_csv(csv1list[filenameidx]) \n",
    "    origdf=origdf.drop([0])\n",
    "    base_date = None\n",
    "    newdf=pd.DataFrame(origdf[origdf.columns[0:2]])\n",
    "    newdf.columns=[\"\",newdf.columns[0]]\n",
    "    newdf=newdf.set_index(newdf.columns[0])\n",
    "    newdf=newdf.dropna()\n",
    "    newdf=setidx(newdf)\n",
    "    def gettindex(res, base_date):\n",
    "        time_stamp = datetime.datetime.strptime(res.split(' ')[-1], '%H:%M')\n",
    "        minute_index = round(time_stamp.minute/10)\n",
    "        hour_index = time_stamp.hour\n",
    "        if base_date == None:\n",
    "            base_date = datetime.datetime.strptime(res.split(' ')[0], '%m/%d/%y')\n",
    "        day = (datetime.datetime.strptime(res.split(' ')[0], '%m/%d/%y')-base_date).days\n",
    "        time_index = day * 24 * 6 - 31 + minute_index + hour_index * 6\n",
    "        return(time_index,base_date)\n",
    "\n",
    "    for i in range(1,13):\n",
    "        \n",
    "        tempdf=pd.DataFrame(origdf[origdf.columns[i*3:i*3+2]])\n",
    "        tempdf.columns=[\"\",tempdf.columns[0]]\n",
    "        tempdf=tempdf.dropna()\n",
    "        tempdf=tempdf.set_index(tempdf.columns[0])\n",
    "        ilist=[]\n",
    "        tempdf=setidx(tempdf)\n",
    "        tempdf=tempdf[~tempdf.index.duplicated(keep='first')]\n",
    "        newdf=pd.concat([newdf,tempdf],axis=1)\n",
    "\n",
    "    origdf2=pd.read_csv(csv2list[filenameidx]) \n",
    "    origdf2=origdf2.drop([0])\n",
    "\n",
    "    newdf2=pd.DataFrame(origdf2[origdf2.columns[0:2]])\n",
    "    newdf2.columns=[\"\",newdf2.columns[0]]\n",
    "    newdf2=newdf2.set_index(newdf2.columns[0])\n",
    "    newdf2=newdf2.dropna()\n",
    "    newdf2=setidx(newdf2)\n",
    "    for i in range(1,13):\n",
    "        tempdf2=pd.DataFrame(origdf2[origdf2.columns[i*3:i*3+2]])\n",
    "        tempdf2.columns=[\"\",tempdf2.columns[0]]\n",
    "        tempdf2=tempdf2.dropna()\n",
    "        tempdf2=tempdf2.set_index(tempdf2.columns[0])\n",
    "        tempdf2=setidx(tempdf2)\n",
    "        tempdf2=tempdf2[~tempdf2.index.duplicated(keep='first')]\n",
    "        newdf2=pd.concat([newdf2,tempdf2],axis=1)\n",
    "    newdf=newdf.fillna(newdf2)\n",
    "    newdf2=newdf2.fillna(newdf)\n",
    "    machinedf=pd.concat([newdf, newdf2], axis=0, copy=False).drop_duplicates().reset_index(drop=True)\n",
    "    machinedf=machinedf.replace(float(\"Nan\"), -1)\n",
    "    if first==1:\n",
    "        fulldf=machinedf\n",
    "        first=0\n",
    "    else:\n",
    "        fulldf=pd.concat([fulldf,machinedf])\n",
    "fulldf.to_csv('resdf.csv') "
   ]
  },
  {
   "cell_type": "code",
   "execution_count": null,
   "metadata": {},
   "outputs": [],
   "source": []
  },
  {
   "cell_type": "code",
   "execution_count": null,
   "metadata": {},
   "outputs": [],
   "source": []
  },
  {
   "cell_type": "code",
   "execution_count": null,
   "metadata": {},
   "outputs": [],
   "source": []
  },
  {
   "cell_type": "code",
   "execution_count": null,
   "metadata": {},
   "outputs": [],
   "source": []
  },
  {
   "cell_type": "code",
   "execution_count": null,
   "metadata": {},
   "outputs": [],
   "source": []
  },
  {
   "cell_type": "code",
   "execution_count": null,
   "metadata": {},
   "outputs": [],
   "source": []
  },
  {
   "cell_type": "code",
   "execution_count": null,
   "metadata": {},
   "outputs": [],
   "source": []
  },
  {
   "cell_type": "code",
   "execution_count": null,
   "metadata": {},
   "outputs": [],
   "source": []
  }
 ],
 "metadata": {
  "kernelspec": {
   "display_name": "Python 3",
   "language": "python",
   "name": "python3"
  },
  "language_info": {
   "codemirror_mode": {
    "name": "ipython",
    "version": 3
   },
   "file_extension": ".py",
   "mimetype": "text/x-python",
   "name": "python",
   "nbconvert_exporter": "python",
   "pygments_lexer": "ipython3",
   "version": "3.8.5"
  }
 },
 "nbformat": 4,
 "nbformat_minor": 4
}
