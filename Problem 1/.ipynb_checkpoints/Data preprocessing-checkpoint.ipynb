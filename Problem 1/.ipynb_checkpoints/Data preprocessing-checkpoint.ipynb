{
 "cells": [
  {
   "cell_type": "code",
   "execution_count": 2,
   "metadata": {},
   "outputs": [],
   "source": [
    "import pandas as pd\n",
    "import datetime"
   ]
  },
  {
   "cell_type": "code",
   "execution_count": 6,
   "metadata": {},
   "outputs": [],
   "source": [
    "global base_date\n",
    "base_date=None\n",
    "\n",
    "def setidx(df):\n",
    "    global base_date\n",
    "    ilist=[]\n",
    "    for i in range(len(df.index)):\n",
    "        res=df.index[i]\n",
    "        time_stamp = datetime.datetime.strptime(res.split(' ')[-1], '%H:%M')\n",
    "        minute_index = round(time_stamp.minute/10)\n",
    "        hour_index = time_stamp.hour\n",
    "        if base_date == None:\n",
    "            base_date = datetime.datetime.strptime(res.split(' ')[0], '%m/%d/%y')\n",
    "        day = (datetime.datetime.strptime(res.split(' ')[0], '%m/%d/%y')-base_date).days\n",
    "        time_index = day * 24 * 6 - 31 + minute_index + hour_index * 6\n",
    "        ilist.append(time_index)\n",
    "    df.index=ilist\n",
    "    return df\n",
    "\n",
    "\n",
    "origdf=pd.read_csv(\"Data/bridgeport1week1-train.csv\") \n",
    "origdf=origdf.drop([0])\n",
    "base_date = None\n",
    "newdf=pd.DataFrame(origdf[origdf.columns[0:2]])\n",
    "newdf.columns=[\"\",newdf.columns[0]]\n",
    "newdf=newdf.set_index(newdf.columns[0])\n",
    "newdf=newdf.dropna()\n",
    "newdf=setidx(newdf)\n",
    "def gettindex(res, base_date):\n",
    "    time_stamp = datetime.datetime.strptime(res.split(' ')[-1], '%H:%M')\n",
    "    minute_index = round(time_stamp.minute/10)\n",
    "    hour_index = time_stamp.hour\n",
    "    if base_date == None:\n",
    "        base_date = datetime.datetime.strptime(res.split(' ')[0], '%m/%d/%y')\n",
    "    day = (datetime.datetime.strptime(res.split(' ')[0], '%m/%d/%y')-base_date).days\n",
    "    time_index = day * 24 * 6 - 31 + minute_index + hour_index * 6\n",
    "    return(time_index,base_date)\n",
    "\n",
    "for i in range(1,13):\n",
    "    tempdf=pd.DataFrame(origdf[origdf.columns[i*3:i*3+2]])\n",
    "    tempdf.columns=[\"\",tempdf.columns[0]]\n",
    "    tempdf=tempdf.dropna()\n",
    "    tempdf=tempdf.set_index(tempdf.columns[0])\n",
    "    ilist=[]\n",
    "    tempdf=setidx(tempdf)\n",
    "    newdf=pd.concat([newdf,tempdf],axis=1)\n",
    "    \n",
    "origdf2=pd.read_csv(\"Data/bridgeport1week2-train.csv\") \n",
    "origdf2=origdf2.drop([0])\n",
    "\n",
    "newdf2=pd.DataFrame(origdf2[origdf2.columns[0:2]])\n",
    "newdf2.columns=[\"\",newdf2.columns[0]]\n",
    "newdf2=newdf2.set_index(newdf2.columns[0])\n",
    "newdf2=newdf2.dropna()\n",
    "newdf2=setidx(newdf2)\n",
    "for i in range(1,13):\n",
    "    tempdf2=pd.DataFrame(origdf2[origdf2.columns[i*3:i*3+2]])\n",
    "    tempdf2.columns=[\"\",tempdf2.columns[0]]\n",
    "    tempdf2=tempdf2.dropna()\n",
    "    tempdf2=tempdf2.set_index(tempdf2.columns[0])\n",
    "    tempdf2=setidx(tempdf2)\n",
    "    newdf2=pd.concat([newdf2,tempdf2],axis=1)\n",
    "newdf=newdf.fillna(newdf2)\n",
    "newdf2=newdf2.fillna(newdf)\n",
    "resdf=pd.concat([newdf, newdf2], axis=0, verify_integrity=1)\n",
    "resdf=resdf.replace(float(\"Nan\"), -1)\n",
    "resdf.to_csv('resdf.csv') "
   ]
  },
  {
   "cell_type": "code",
   "execution_count": null,
   "metadata": {},
   "outputs": [],
   "source": []
  },
  {
   "cell_type": "code",
   "execution_count": null,
   "metadata": {},
   "outputs": [],
   "source": []
  },
  {
   "cell_type": "code",
   "execution_count": null,
   "metadata": {},
   "outputs": [],
   "source": []
  },
  {
   "cell_type": "code",
   "execution_count": null,
   "metadata": {},
   "outputs": [],
   "source": []
  },
  {
   "cell_type": "code",
   "execution_count": null,
   "metadata": {},
   "outputs": [],
   "source": []
  },
  {
   "cell_type": "code",
   "execution_count": null,
   "metadata": {},
   "outputs": [],
   "source": []
  },
  {
   "cell_type": "code",
   "execution_count": null,
   "metadata": {},
   "outputs": [],
   "source": []
  },
  {
   "cell_type": "code",
   "execution_count": null,
   "metadata": {},
   "outputs": [],
   "source": []
  }
 ],
 "metadata": {
  "kernelspec": {
   "display_name": "Python 3",
   "language": "python",
   "name": "python3"
  },
  "language_info": {
   "codemirror_mode": {
    "name": "ipython",
    "version": 3
   },
   "file_extension": ".py",
   "mimetype": "text/x-python",
   "name": "python",
   "nbconvert_exporter": "python",
   "pygments_lexer": "ipython3",
   "version": "3.8.5"
  }
 },
 "nbformat": 4,
 "nbformat_minor": 4
}
