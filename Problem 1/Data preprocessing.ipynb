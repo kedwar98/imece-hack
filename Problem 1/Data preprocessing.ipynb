{
 "cells": [
  {
   "cell_type": "code",
   "execution_count": 1,
   "metadata": {},
   "outputs": [],
   "source": [
    "import pandas as pd\n"
   ]
  },
  {
   "cell_type": "code",
   "execution_count": 103,
   "metadata": {},
   "outputs": [],
   "source": [
    "origdf=pd.read_csv(\"Data/bridgeport1week1-train.csv\") \n",
    "origdf=origdf.drop([0])\n",
    "\n",
    "newdf=pd.DataFrame(origdf[origdf.columns[0:2]])\n",
    "newdf.columns=[\"\",newdf.columns[0]]\n",
    "newdf=newdf.set_index(newdf.columns[0])\n",
    "\n",
    "for i in range(1,13):\n",
    "    \n",
    "    tempdf=pd.DataFrame(origdf[origdf.columns[i*3:i*3+2]])\n",
    "    tempdf.columns=[\"\",tempdf.columns[0]]\n",
    "    tempdf=tempdf.dropna()\n",
    "    tempdf=tempdf.set_index(tempdf.columns[0])\n",
    "    newdf=pd.concat([newdf,tempdf],axis=1)"
   ]
  },
  {
   "cell_type": "code",
   "execution_count": 104,
   "metadata": {},
   "outputs": [
    {
     "name": "stdout",
     "output_type": "stream",
     "text": [
      "             Machines > Bridgeport Mill 1 > Spindle > Y-Radial > Band 1  \\\n",
      "2/15/20 5:09                                          0.0024374           \n",
      "2/15/20 5:18                                          0.0034169           \n",
      "2/15/20 5:28                                          0.0034582           \n",
      "2/15/20 5:38                                          0.0014652           \n",
      "2/15/20 5:49                                          0.0031839           \n",
      "\n",
      "             Machines > Bridgeport Mill 1 > Spindle > Y-Radial > Damage Accumulation  \\\n",
      "2/15/20 5:09                                          1.0124303                        \n",
      "2/15/20 5:18                                           0.983099                        \n",
      "2/15/20 5:28                                          0.9936279                        \n",
      "2/15/20 5:38                                          0.9791234                        \n",
      "2/15/20 5:49                                          0.9771959                        \n",
      "\n",
      "             Machines > Bridgeport Mill 1 > Spindle > Y-Radial > Peak Acceleration  \\\n",
      "2/15/20 5:09                                          0.0481759                      \n",
      "2/15/20 5:18                                          0.0522578                      \n",
      "2/15/20 5:28                                          0.0476382                      \n",
      "2/15/20 5:38                                          0.0392119                      \n",
      "2/15/20 5:49                                          0.0512568                      \n",
      "\n",
      "             Machines > Bridgeport Mill 1 > Spindle > Y-Radial > Peak Velocity  \\\n",
      "2/15/20 5:09                                          0.0081651                  \n",
      "2/15/20 5:18                                          0.0086778                  \n",
      "2/15/20 5:28                                          0.0103502                  \n",
      "2/15/20 5:38                                          0.0065931                  \n",
      "2/15/20 5:49                                          0.0126929                  \n",
      "\n",
      "             Machines > Bridgeport Mill 1 > Spindle > X-Axial > RMS Velocity  \\\n",
      "2/15/20 5:09                                                NaN                \n",
      "2/15/20 5:18                                          0.0032932                \n",
      "2/15/20 5:28                                          0.0033041                \n",
      "2/15/20 5:38                                          0.0028593                \n",
      "2/15/20 5:49                                          0.0033635                \n",
      "\n",
      "             Machines > Bridgeport Mill 1 > Spindle > X-Axial > Temperature  \\\n",
      "2/15/20 5:09                                        65.81021881               \n",
      "2/15/20 5:18                                                NaN               \n",
      "2/15/20 5:28                                                NaN               \n",
      "2/15/20 5:38                                        65.84923401               \n",
      "2/15/20 5:49                                        66.04411087               \n",
      "\n",
      "             Machines > Bridgeport Mill 1 > Spindle > X-Axial > Peak Acceleration  \\\n",
      "2/15/20 5:09                                                NaN                     \n",
      "2/15/20 5:18                                          0.0525772                     \n",
      "2/15/20 5:28                                          0.0503932                     \n",
      "2/15/20 5:38                                          0.0428264                     \n",
      "2/15/20 5:49                                          0.0557567                     \n",
      "\n",
      "             Machines > Bridgeport Mill 1 > Spindle > X-Axial > Peak Velocity  \\\n",
      "2/15/20 5:09                                                NaN                 \n",
      "2/15/20 5:18                                          0.0115188                 \n",
      "2/15/20 5:28                                          0.0116325                 \n",
      "2/15/20 5:38                                          0.0100441                 \n",
      "2/15/20 5:49                                          0.0107987                 \n",
      "\n",
      "             Machines > Bridgeport Mill 1 > Spindle > Y-Radial > RMS Velocity  \\\n",
      "2/15/20 5:09                                          0.0027906                 \n",
      "2/15/20 5:18                                          0.0030248                 \n",
      "2/15/20 5:28                                           0.003348                 \n",
      "2/15/20 5:38                                          0.0021837                 \n",
      "2/15/20 5:49                                          0.0033268                 \n",
      "\n",
      "             Machines > Bridgeport Mill 1 > Spindle > Y-Radial > Temperature  \\\n",
      "2/15/20 5:09                                        65.81021881                \n",
      "2/15/20 5:18                                                NaN                \n",
      "2/15/20 5:28                                                NaN                \n",
      "2/15/20 5:38                                        65.84923401                \n",
      "2/15/20 5:49                                        66.04411087                \n",
      "\n",
      "             Machines > Bridgeport Mill 1 > Spindle > X-Axial > Band 1  \\\n",
      "2/15/20 5:09                                                NaN          \n",
      "2/15/20 5:18                                          0.0027387          \n",
      "2/15/20 5:28                                          0.0017188          \n",
      "2/15/20 5:38                                          0.0024722          \n",
      "2/15/20 5:49                                          0.0025862          \n",
      "\n",
      "             Machines > Bridgeport Mill 1 > Spindle > X-Axial > Damage Accumulation  \\\n",
      "2/15/20 5:09                                                NaN                       \n",
      "2/15/20 5:18                                           0.959487                       \n",
      "2/15/20 5:28                                          0.9723627                       \n",
      "2/15/20 5:38                                           0.955463                       \n",
      "2/15/20 5:49                                          0.9422214                       \n",
      "\n",
      "             Machines > Bridgeport Mill 1 > Spindle > Battery Voltage  \n",
      "2/15/20 5:09                                        3.241709471        \n",
      "2/15/20 5:18                                                NaN        \n",
      "2/15/20 5:28                                                NaN        \n",
      "2/15/20 5:38                                        3.241123438        \n",
      "2/15/20 5:49                                        3.241025686        \n",
      "             Machines > Bridgeport Mill 1 > Spindle > Battery Voltage\n",
      "                                                                     \n",
      "2/15/20 5:09                                        3.241709471      \n",
      "2/15/20 5:19                                        3.241220951      \n",
      "2/15/20 5:29                                        3.241611719      \n",
      "2/15/20 5:38                                        3.241123438      \n",
      "2/15/20 5:49                                        3.241025686      \n"
     ]
    }
   ],
   "source": [
    "print(newdf.head())\n",
    "print(tempdf.head())"
   ]
  },
  {
   "cell_type": "code",
   "execution_count": 20,
   "metadata": {},
   "outputs": [
    {
     "name": "stdout",
     "output_type": "stream",
     "text": [
      "Index(['Machines > Bridgeport Mill 1 > Spindle > Y-Radial > Band 1'], dtype='object')\n"
     ]
    }
   ],
   "source": [
    "print(newdf.columns)"
   ]
  },
  {
   "cell_type": "code",
   "execution_count": null,
   "metadata": {},
   "outputs": [],
   "source": []
  }
 ],
 "metadata": {
  "kernelspec": {
   "display_name": "Python 3",
   "language": "python",
   "name": "python3"
  },
  "language_info": {
   "codemirror_mode": {
    "name": "ipython",
    "version": 3
   },
   "file_extension": ".py",
   "mimetype": "text/x-python",
   "name": "python",
   "nbconvert_exporter": "python",
   "pygments_lexer": "ipython3",
   "version": "3.8.5"
  }
 },
 "nbformat": 4,
 "nbformat_minor": 4
}
