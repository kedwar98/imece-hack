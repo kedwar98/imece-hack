{
 "cells": [
  {
   "cell_type": "code",
   "execution_count": 2,
   "metadata": {},
   "outputs": [],
   "source": [
    "import pandas as pd\n",
    "import datetime"
   ]
  },
  {
   "cell_type": "code",
   "execution_count": 47,
   "metadata": {},
   "outputs": [
    {
     "name": "stdout",
     "output_type": "stream",
     "text": [
      "0\n",
      "1\n",
      "2\n",
      "3\n",
      "4\n"
     ]
    }
   ],
   "source": [
    "global base_date\n",
    "base_date=None\n",
    "\n",
    "def setidx(df):\n",
    "    global base_date\n",
    "    ilist=[]\n",
    "    for i in range(len(df.index)):\n",
    "        res=df.index[i]\n",
    "        time_stamp = datetime.datetime.strptime(res.split(' ')[-1], '%H:%M')\n",
    "        minute_index = round(time_stamp.minute/10)\n",
    "        hour_index = time_stamp.hour\n",
    "        if base_date == None:\n",
    "            base_date = datetime.datetime.strptime(res.split(' ')[0], '%m/%d/%y')\n",
    "        day = (datetime.datetime.strptime(res.split(' ')[0], '%m/%d/%y')-base_date).days\n",
    "        time_index = day * 24 * 6 - 31 + minute_index + hour_index * 6\n",
    "        ilist.append(time_index)\n",
    "    df.index=ilist\n",
    "    return df\n",
    "\n",
    "csv1list=[\"Data/bridgeport1week1-train.csv\",\"Data/bridgeport2week1-train.csv\",\"Data/bridgeport3week1-train.csv\",\"Data/drillpressweek1-train.csv\",\"Data/latheweek1-train.csv\"]\n",
    "csv2list=[\"Data/bridgeport1week2-train.csv\",\"Data/bridgeport2week2-train.csv\",\"Data/bridgeport3week2-train.csv\",\"Data/drillpressweek2-train.csv\",\"Data/latheweek2-train.csv\"]\n",
    "first=1\n",
    "for filenameidx in range(0,5):\n",
    "    print(filenameidx)\n",
    "    origdf=pd.read_csv(csv1list[filenameidx]) \n",
    "    origdf=origdf.drop([0])\n",
    "    base_date = None\n",
    "    newdf=pd.DataFrame(origdf[origdf.columns[0:2]])\n",
    "    newdf.columns=[\"\",newdf.columns[0]]\n",
    "    newdf=newdf.set_index(newdf.columns[0])\n",
    "    newdf=newdf.dropna()\n",
    "    newdf=setidx(newdf)\n",
    "    newdf=newdf[~newdf.index.duplicated(keep='first')]\n",
    "    def gettindex(res, base_date):\n",
    "        time_stamp = datetime.datetime.strptime(res.split(' ')[-1], '%H:%M')\n",
    "        minute_index = round(time_stamp.minute/10)\n",
    "        hour_index = time_stamp.hour\n",
    "        if base_date == None:\n",
    "            base_date = datetime.datetime.strptime(res.split(' ')[0], '%m/%d/%y')\n",
    "        day = (datetime.datetime.strptime(res.split(' ')[0], '%m/%d/%y')-base_date).days\n",
    "        time_index = day * 24 * 6 - 31 + minute_index + hour_index * 6\n",
    "        return(time_index,base_date)\n",
    "\n",
    "    for i in range(1,13):\n",
    "        \n",
    "        tempdf=pd.DataFrame(origdf[origdf.columns[i*3:i*3+2]])\n",
    "        tempdf.columns=[\"\",tempdf.columns[0]]\n",
    "        tempdf=tempdf.dropna()\n",
    "        tempdf=tempdf.set_index(tempdf.columns[0])\n",
    "        ilist=[]\n",
    "        tempdf=setidx(tempdf)\n",
    "        tempdf=tempdf[~tempdf.index.duplicated(keep='first')]\n",
    "        newdf=pd.concat([newdf,tempdf],axis=1)\n",
    "\n",
    "    origdf2=pd.read_csv(csv2list[filenameidx]) \n",
    "    origdf2=origdf2.drop([0])\n",
    "\n",
    "    newdf2=pd.DataFrame(origdf2[origdf2.columns[0:2]])\n",
    "    newdf2.columns=[\"\",newdf2.columns[0]]\n",
    "    newdf2=newdf2.set_index(newdf2.columns[0])\n",
    "    newdf2=newdf2.dropna()\n",
    "    newdf2=setidx(newdf2)\n",
    "    newdf2=newdf2[~newdf2.index.duplicated(keep='first')]\n",
    "    for i in range(1,13):\n",
    "        tempdf2=pd.DataFrame(origdf2[origdf2.columns[i*3:i*3+2]])\n",
    "        tempdf2.columns=[\"\",tempdf2.columns[0]]\n",
    "        tempdf2=tempdf2.dropna()\n",
    "        tempdf2=tempdf2.set_index(tempdf2.columns[0])\n",
    "        tempdf2=setidx(tempdf2)\n",
    "        tempdf2=tempdf2[~tempdf2.index.duplicated(keep='first')]\n",
    "        newdf2=pd.concat([newdf2,tempdf2],axis=1)\n",
    "    newdf=newdf.fillna(newdf2)\n",
    "    newdf2=newdf2.fillna(newdf)\n",
    "    machinedf=pd.concat([newdf, newdf2], axis=0, copy=False).drop_duplicates().reset_index(drop=True)\n",
    "    machinedf=machinedf.replace(float(\"Nan\"), -1)\n",
    "    machinedf = machinedf.reindex(sorted(machinedf.columns), axis=1)\n",
    "    if first==1:\n",
    "        fulldf=machinedf\n",
    "        first=0\n",
    "    else:\n",
    "        fulldf=pd.concat([fulldf,machinedf],axis=1)\n",
    "        \n",
    "    machinedf.to_csv(\"machine\" + str(filenameidx) + \"df.csv\")\n",
    "fulldf.to_csv('resdf.csv') "
   ]
  },
  {
   "cell_type": "code",
   "execution_count": 48,
   "metadata": {},
   "outputs": [
    {
     "name": "stdout",
     "output_type": "stream",
     "text": [
      "0\n",
      "1\n",
      "2\n",
      "3\n",
      "4\n"
     ]
    }
   ],
   "source": [
    "csv3list=[\"Data/bridgeport1week3-test.csv\",\"Data/bridgeport2week3-test.csv\",\"Data/bridgeport3week3-test.csv\",\"Data/drillpressweek3-test.csv\",\"Data/latheweek3-test.csv\"]\n",
    "for filenameidx in range(0,5):\n",
    "    print(filenameidx)\n",
    "    origdf=pd.read_csv(csv3list[filenameidx]) \n",
    "    origdf=origdf.drop([0])\n",
    "    base_date = None\n",
    "    newdf=pd.DataFrame(origdf[origdf.columns[0:2]])\n",
    "    newdf.columns=[\"\",newdf.columns[0]]\n",
    "    newdf=newdf.set_index(newdf.columns[0])\n",
    "    newdf=newdf.dropna()\n",
    "    newdf=setidx(newdf)\n",
    "    newdf=newdf[~newdf.index.duplicated(keep='first')]\n",
    "    def gettindex(res, base_date):\n",
    "        time_stamp = datetime.datetime.strptime(res.split(' ')[-1], '%H:%M')\n",
    "        minute_index = round(time_stamp.minute/10)\n",
    "        hour_index = time_stamp.hour\n",
    "        if base_date == None:\n",
    "            base_date = datetime.datetime.strptime(res.split(' ')[0], '%m/%d/%y')\n",
    "        day = (datetime.datetime.strptime(res.split(' ')[0], '%m/%d/%y')-base_date).days\n",
    "        time_index = day * 24 * 6 - 31 + minute_index + hour_index * 6\n",
    "        return(time_index,base_date)\n",
    "\n",
    "    for i in range(1,11):\n",
    "        tempdf=pd.DataFrame(origdf[origdf.columns[i*3:i*3+2]])\n",
    "        tempdf.columns=[\"\",tempdf.columns[0]]\n",
    "        tempdf=tempdf.dropna()\n",
    "        tempdf=tempdf.set_index(tempdf.columns[0])\n",
    "        ilist=[]\n",
    "        tempdf=setidx(tempdf)\n",
    "        tempdf=tempdf[~tempdf.index.duplicated(keep='first')]\n",
    "        newdf=pd.concat([newdf,tempdf],axis=1)\n",
    "        newdf=newdf.replace(float(\"Nan\"), -1)\n",
    "    newdf = newdf.reindex(sorted(newdf.columns), axis=1)\n",
    "    newdf.to_csv(\"pred\" + str(filenameidx) + \"df.csv\")"
   ]
  },
  {
   "cell_type": "code",
   "execution_count": null,
   "metadata": {},
   "outputs": [],
   "source": []
  },
  {
   "cell_type": "code",
   "execution_count": null,
   "metadata": {},
   "outputs": [],
   "source": []
  },
  {
   "cell_type": "code",
   "execution_count": null,
   "metadata": {},
   "outputs": [],
   "source": []
  },
  {
   "cell_type": "code",
   "execution_count": null,
   "metadata": {},
   "outputs": [],
   "source": []
  },
  {
   "cell_type": "code",
   "execution_count": null,
   "metadata": {},
   "outputs": [],
   "source": []
  },
  {
   "cell_type": "code",
   "execution_count": null,
   "metadata": {},
   "outputs": [],
   "source": []
  },
  {
   "cell_type": "code",
   "execution_count": null,
   "metadata": {},
   "outputs": [],
   "source": []
  }
 ],
 "metadata": {
  "kernelspec": {
   "display_name": "Python 3",
   "language": "python",
   "name": "python3"
  },
  "language_info": {
   "codemirror_mode": {
    "name": "ipython",
    "version": 3
   },
   "file_extension": ".py",
   "mimetype": "text/x-python",
   "name": "python",
   "nbconvert_exporter": "python",
   "pygments_lexer": "ipython3",
   "version": "3.8.5"
  }
 },
 "nbformat": 4,
 "nbformat_minor": 4
}
